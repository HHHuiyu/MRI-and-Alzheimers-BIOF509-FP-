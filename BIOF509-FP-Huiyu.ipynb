{
 "cells": [
  {
   "cell_type": "markdown",
   "metadata": {},
   "source": [
    "# MRI and Alzheimers \n",
    "## BIOF509 Spring 2019 Frinal Project"
   ]
  },
  {
   "cell_type": "markdown",
   "metadata": {},
   "source": [
    "## Import Dataset"
   ]
  },
  {
   "cell_type": "code",
   "execution_count": null,
   "metadata": {},
   "outputs": [],
   "source": [
    "# This project is trying to find the best method to predict whether the patient will get\n",
    "# Dementia/Alzheimers or not given the data\n",
    "# Data should not be combined, each dataset should not be used individually only.\n",
    "\n",
    "import numpy as np\n",
    "import pandas as pd\n",
    "import seaborn as sns\n",
    "import matplotlib.pyplot as plt\n",
    "%matplotlib inline\n",
    "\n",
    "# merge two datasets\n",
    "# mri_cross = pd.read_csv('oasis_cross-sectional.csv', sep = ',')\n",
    "mri_long = pd.read_csv('oasis_longitudinal.csv', sep = ',')\n",
    "mri_long.head()"
   ]
  },
  {
   "cell_type": "code",
   "execution_count": null,
   "metadata": {},
   "outputs": [],
   "source": [
    "# closer look to the score and labels\n",
    "mri_long.groupby(['CDR', 'Group']).size().unstack()"
   ]
  },
  {
   "cell_type": "code",
   "execution_count": null,
   "metadata": {},
   "outputs": [],
   "source": [
    "mri_long.isnull().sum()"
   ]
  },
  {
   "cell_type": "markdown",
   "metadata": {},
   "source": [
    "## Pre-Process"
   ]
  },
  {
   "cell_type": "code",
   "execution_count": null,
   "metadata": {},
   "outputs": [],
   "source": [
    "# the data contains more than one visits, we only keep single visit = 1\n",
    "# no converted patients included\n",
    "# MR Delay == 0\n",
    "df = mri_long.loc[mri_long['Visit'] == 1]\n",
    "df = df.drop(['Subject ID', 'MRI ID', 'Visit', 'Hand', 'MR Delay'], axis = 1)\n",
    "display(df.head(), df.shape)"
   ]
  },
  {
   "cell_type": "code",
   "execution_count": null,
   "metadata": {},
   "outputs": [],
   "source": [
    "# missing values at the initial Visit\n",
    "# SES (Socioeconomics Status)\n",
    "df.isnull().sum()"
   ]
  },
  {
   "cell_type": "code",
   "execution_count": null,
   "metadata": {},
   "outputs": [],
   "source": [
    "from sklearn.preprocessing import OrdinalEncoder\n",
    "\n",
    "ode = OrdinalEncoder()\n",
    "\n",
    "# CDR ordinal \n",
    "# df[\"CDR\"] = df[\"CDR\"].astype('category')\n",
    "# cdr = df[\"CDR\"].values.tolist() \n",
    "cdr = df[[\"CDR\"]]\n",
    "cdr_code = ode.fit_transform(cdr)\n",
    "cdr_code.categories_"
   ]
  },
  {
   "cell_type": "code",
   "execution_count": null,
   "metadata": {},
   "outputs": [],
   "source": [
    "# MMSE Scores Mini-Mental State Examination - Ordinal\n",
    "# Ref: https://www.heartandstroke.ca/-/media/pdf-files/canada/clinical-update/allen-huang-cognitive-screening-toolkit.ashx?la=en&hash=631B35521724C28268D0C2130D07A401E33CDBB0\n",
    "# 25-30 (Questionably significant); 20-25 (Mild); 10-20 (Moderate); 0-10 (Severe)\n",
    "def mmse_group(col):\n",
    "    if col <= 10:\n",
    "        return \"Severe\"\n",
    "    elif 10 < col <= 20:\n",
    "        return \"Moderate\"\n",
    "    elif 20 < col <= 25:\n",
    "        return \"Mild\"\n",
    "    elif 25 < col <= 30:\n",
    "        return \"Questionably significant\"\n",
    "\n",
    "df['MMSE Group'] = df['MMSE'].apply(mmse_group)\n",
    "df['MMSE Group'].value_counts(sort = True)"
   ]
  },
  {
   "cell_type": "code",
   "execution_count": null,
   "metadata": {},
   "outputs": [],
   "source": [
    "from sklearn.preprocessing import LabelEncoder\n",
    "\n",
    "lbe = LabelEncoder()\n",
    "\n",
    "# M/F F = 0, M = 1\n",
    "df['Gender_code'] = lbe.fit_transform(df['M/F'])\n",
    "\n",
    "# Group Demented = 0, Nondemented = 1\n",
    "df['Group_code'] = lbe.fit_transform(df['Group'])"
   ]
  },
  {
   "cell_type": "markdown",
   "metadata": {},
   "source": [
    "## Data Exploration"
   ]
  },
  {
   "cell_type": "code",
   "execution_count": null,
   "metadata": {},
   "outputs": [],
   "source": [
    "# Demented > ND at patients' initial visit\n",
    "sns.countplot(x = 'Group', data = df)"
   ]
  },
  {
   "cell_type": "code",
   "execution_count": null,
   "metadata": {},
   "outputs": [],
   "source": [
    "# converted --> Demented\n",
    "df['Group'] = df['Group'].replace(['Converted'],['Demented'])\n",
    "sns.countplot(x = 'Group', data = df)"
   ]
  },
  {
   "cell_type": "code",
   "execution_count": null,
   "metadata": {},
   "outputs": [],
   "source": [
    "sns.countplot(x = 'CDR', data= df)"
   ]
  },
  {
   "cell_type": "code",
   "execution_count": null,
   "metadata": {},
   "outputs": [],
   "source": [
    "# multicolinearity exists\n",
    "p1 = sns.pairplot(df, hue = 'Group')"
   ]
  },
  {
   "cell_type": "code",
   "execution_count": null,
   "metadata": {},
   "outputs": [],
   "source": [
    "# lets see 'Group' relationships with other predictors one by one\n",
    "# Gender: M/F\n",
    "# Demented male > ND male ; ND female > Demented female\n",
    "# female less likely to be Demented than male\n",
    "sns.countplot(x = 'M/F', hue = 'Group', data = df)"
   ]
  },
  {
   "cell_type": "code",
   "execution_count": null,
   "metadata": {},
   "outputs": [],
   "source": [
    "# Age vs Group\n",
    "sns.kdeplot(df['Age'], shade = True)"
   ]
  },
  {
   "cell_type": "markdown",
   "metadata": {},
   "source": [
    "#### Remove na & impute"
   ]
  },
  {
   "cell_type": "code",
   "execution_count": null,
   "metadata": {},
   "outputs": [],
   "source": [
    "# remove NA\n",
    "df_rmna = df.dropna()\n",
    "\n",
    "# impute \n",
    "# df_ipna = df."
   ]
  },
  {
   "cell_type": "code",
   "execution_count": null,
   "metadata": {},
   "outputs": [],
   "source": [
    "# recode categorical varibles\n",
    "# Group, M/F nominal\n",
    "# CDR ordinal\n",
    "\n"
   ]
  },
  {
   "cell_type": "markdown",
   "metadata": {},
   "source": [
    "## Modeling"
   ]
  },
  {
   "cell_type": "code",
   "execution_count": null,
   "metadata": {},
   "outputs": [],
   "source": []
  }
 ],
 "metadata": {
  "kernelspec": {
   "display_name": "Python 3",
   "language": "python",
   "name": "python3"
  },
  "language_info": {
   "codemirror_mode": {
    "name": "ipython",
    "version": 3
   },
   "file_extension": ".py",
   "mimetype": "text/x-python",
   "name": "python",
   "nbconvert_exporter": "python",
   "pygments_lexer": "ipython3",
   "version": "3.6.5"
  }
 },
 "nbformat": 4,
 "nbformat_minor": 2
}
